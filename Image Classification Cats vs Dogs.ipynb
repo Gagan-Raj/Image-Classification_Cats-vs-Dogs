{
 "cells": [
  {
   "cell_type": "code",
   "execution_count": 1,
   "id": "46d307a4",
   "metadata": {},
   "outputs": [],
   "source": [
    "import pandas as pd\n",
    "import numpy as np\n",
    "  \n",
    "import warnings\n",
    "warnings.filterwarnings('ignore')\n",
    "\n",
    "import matplotlib.pyplot as plt\n",
    "\n",
    "import os\n",
    "import cv2"
   ]
  },
  {
   "cell_type": "code",
   "execution_count": 2,
   "id": "54cd48a8",
   "metadata": {},
   "outputs": [],
   "source": [
    "#extract the train data\n",
    "import zipfile as zf\n",
    "files = zf.ZipFile(\"Data/cd_train.zip\", 'r')\n",
    "files.extractall('Data/cd_train')\n",
    "files.close()"
   ]
  },
  {
   "cell_type": "code",
   "execution_count": 3,
   "id": "33041556",
   "metadata": {},
   "outputs": [],
   "source": [
    "#extract the test data\n",
    "import zipfile as zf\n",
    "files = zf.ZipFile(\"Data/cd_test.zip\", 'r')\n",
    "files.extractall('Data/cd_test')\n",
    "files.close()"
   ]
  },
  {
   "cell_type": "code",
   "execution_count": 12,
   "id": "0f1e27b0",
   "metadata": {},
   "outputs": [],
   "source": [
    "#reading all images along with labels\n",
    "root_folder = 'Data/cd_train'\n",
    "l1 = []\n",
    "y = []\n",
    "for folder in os.listdir(root_folder):\n",
    "    for filename in os.listdir(f'{root_folder}/{folder}'):\n",
    "        if 'gif' not in filename:\n",
    "            img = cv2.imread(f'{root_folder}/{folder}/{filename}')\n",
    "            img = cv2.resize(img, (250,250),interpolation=cv2.INTER_AREA)\n",
    "            l1.append(img)\n",
    "            if 'cat' in filename:\n",
    "                y.append('cat')\n",
    "            else:\n",
    "                y.append('dog')\n",
    "\n",
    "    \n",
    "    "
   ]
  },
  {
   "cell_type": "code",
   "execution_count": 13,
   "id": "3876e980",
   "metadata": {},
   "outputs": [],
   "source": [
    "x_train = np.array(l1)"
   ]
  },
  {
   "cell_type": "code",
   "execution_count": 14,
   "id": "ef0d4e2c",
   "metadata": {},
   "outputs": [
    {
     "data": {
      "text/plain": [
       "(25000, 250, 250, 3)"
      ]
     },
     "execution_count": 14,
     "metadata": {},
     "output_type": "execute_result"
    }
   ],
   "source": [
    "x_train.shape"
   ]
  },
  {
   "cell_type": "code",
   "execution_count": 15,
   "id": "a1a5cd75",
   "metadata": {},
   "outputs": [],
   "source": [
    "y_train = y"
   ]
  },
  {
   "cell_type": "code",
   "execution_count": 17,
   "id": "63e8b7a5",
   "metadata": {},
   "outputs": [
    {
     "data": {
      "text/plain": [
       "['dog', 'cat', 'dog', 'cat', 'cat']"
      ]
     },
     "execution_count": 17,
     "metadata": {},
     "output_type": "execute_result"
    }
   ],
   "source": [
    "y_train[:5]"
   ]
  },
  {
   "cell_type": "code",
   "execution_count": 18,
   "id": "ed44848c",
   "metadata": {},
   "outputs": [],
   "source": [
    "#convert the y into numpy array by label encoding\n",
    "from sklearn.preprocessing import LabelEncoder\n",
    "\n",
    "le = LabelEncoder()\n",
    "\n",
    "y_train  = le.fit_transform(y_train)"
   ]
  },
  {
   "cell_type": "code",
   "execution_count": 19,
   "id": "2b67781d",
   "metadata": {},
   "outputs": [
    {
     "data": {
      "text/plain": [
       "(25000,)"
      ]
     },
     "execution_count": 19,
     "metadata": {},
     "output_type": "execute_result"
    }
   ],
   "source": [
    "y_train.shape"
   ]
  },
  {
   "cell_type": "markdown",
   "id": "5794e20a",
   "metadata": {},
   "source": [
    "### Splitting the Data"
   ]
  },
  {
   "cell_type": "code",
   "execution_count": 20,
   "id": "1ef797ae",
   "metadata": {},
   "outputs": [],
   "source": [
    "#let us split the train data into test and train\n",
    "from sklearn.model_selection import train_test_split\n",
    "\n",
    "x_train,x_test,y_train,y_test = train_test_split(x_train,y_train,test_size = 0.25,random_state = 123)"
   ]
  },
  {
   "cell_type": "code",
   "execution_count": 21,
   "id": "edc0f53e",
   "metadata": {},
   "outputs": [
    {
     "data": {
      "text/plain": [
       "(18750, 250, 250, 3)"
      ]
     },
     "execution_count": 21,
     "metadata": {},
     "output_type": "execute_result"
    }
   ],
   "source": [
    "x_train.shape"
   ]
  },
  {
   "cell_type": "code",
   "execution_count": 22,
   "id": "85a256ce",
   "metadata": {},
   "outputs": [
    {
     "data": {
      "text/plain": [
       "(6250, 250, 250, 3)"
      ]
     },
     "execution_count": 22,
     "metadata": {},
     "output_type": "execute_result"
    }
   ],
   "source": [
    "x_test.shape"
   ]
  },
  {
   "cell_type": "markdown",
   "id": "4b5ca213",
   "metadata": {},
   "source": [
    "### Defining the Model"
   ]
  },
  {
   "cell_type": "code",
   "execution_count": 23,
   "id": "fa43684c",
   "metadata": {},
   "outputs": [
    {
     "name": "stderr",
     "output_type": "stream",
     "text": [
      "2023-05-02 14:37:11.731528: I tensorflow/core/platform/cpu_feature_guard.cc:182] This TensorFlow binary is optimized to use available CPU instructions in performance-critical operations.\n",
      "To enable the following instructions: AVX2 FMA, in other operations, rebuild TensorFlow with the appropriate compiler flags.\n"
     ]
    }
   ],
   "source": [
    "import tensorflow as tf\n",
    "from tensorflow.keras import Sequential\n",
    "from tensorflow.keras.layers import Conv2D, MaxPooling2D, Dense, Flatten, Dropout\n",
    "from tensorflow.keras.callbacks import EarlyStopping"
   ]
  },
  {
   "cell_type": "code",
   "execution_count": 24,
   "id": "fe293f04",
   "metadata": {},
   "outputs": [],
   "source": [
    "model = Sequential()\n",
    "\n",
    "model.add(Conv2D(64, (3,3), activation='relu', input_shape=(250,250,3)))\n",
    "model.add(MaxPooling2D((2,2)))\n",
    "\n",
    "model.add(Conv2D(32, (3,3), activation='relu'))\n",
    "model.add(MaxPooling2D((2,2)))\n",
    "\n",
    "model.add(Flatten())\n",
    "model.add(Dense(500, activation='relu'))\n",
    "model.add(Dropout(0.2))\n",
    "model.add(Dense(250, activation='relu'))\n",
    "model.add(Dropout(0.2))\n",
    "model.add(Dense(100, activation='relu'))\n",
    "\n",
    "model.add(Dense(1, activation='sigmoid'))"
   ]
  },
  {
   "cell_type": "code",
   "execution_count": 25,
   "id": "352bf74c",
   "metadata": {},
   "outputs": [
    {
     "name": "stdout",
     "output_type": "stream",
     "text": [
      "Model: \"sequential\"\n",
      "_________________________________________________________________\n",
      " Layer (type)                Output Shape              Param #   \n",
      "=================================================================\n",
      " conv2d (Conv2D)             (None, 248, 248, 64)      1792      \n",
      "                                                                 \n",
      " max_pooling2d (MaxPooling2D  (None, 124, 124, 64)     0         \n",
      " )                                                               \n",
      "                                                                 \n",
      " conv2d_1 (Conv2D)           (None, 122, 122, 32)      18464     \n",
      "                                                                 \n",
      " max_pooling2d_1 (MaxPooling  (None, 61, 61, 32)       0         \n",
      " 2D)                                                             \n",
      "                                                                 \n",
      " flatten (Flatten)           (None, 119072)            0         \n",
      "                                                                 \n",
      " dense (Dense)               (None, 500)               59536500  \n",
      "                                                                 \n",
      " dropout (Dropout)           (None, 500)               0         \n",
      "                                                                 \n",
      " dense_1 (Dense)             (None, 250)               125250    \n",
      "                                                                 \n",
      " dropout_1 (Dropout)         (None, 250)               0         \n",
      "                                                                 \n",
      " dense_2 (Dense)             (None, 100)               25100     \n",
      "                                                                 \n",
      " dense_3 (Dense)             (None, 1)                 101       \n",
      "                                                                 \n",
      "=================================================================\n",
      "Total params: 59,707,207\n",
      "Trainable params: 59,707,207\n",
      "Non-trainable params: 0\n",
      "_________________________________________________________________\n"
     ]
    }
   ],
   "source": [
    "model.summary()"
   ]
  },
  {
   "cell_type": "code",
   "execution_count": 31,
   "id": "acd3ea3b",
   "metadata": {
    "scrolled": true
   },
   "outputs": [
    {
     "name": "stdout",
     "output_type": "stream",
     "text": [
      "Epoch 1/5\n",
      "469/469 [==============================] - 2691s 6s/step - loss: 0.6414 - accuracy: 0.5852 - val_loss: 0.7860 - val_accuracy: 0.4949\n",
      "Epoch 2/5\n",
      "469/469 [==============================] - 2281s 5s/step - loss: 0.6237 - accuracy: 0.5919 - val_loss: 0.8731 - val_accuracy: 0.5048\n",
      "Epoch 3/5\n",
      "469/469 [==============================] - 2444s 5s/step - loss: 0.5956 - accuracy: 0.6137 - val_loss: 1.1728 - val_accuracy: 0.5176\n",
      "Epoch 4/5\n",
      "469/469 [==============================] - 2258s 5s/step - loss: 0.6711 - accuracy: 0.6057 - val_loss: 1.0592 - val_accuracy: 0.4957\n",
      "Epoch 5/5\n",
      "469/469 [==============================] - 2557s 5s/step - loss: 0.5613 - accuracy: 0.6265 - val_loss: 1.4020 - val_accuracy: 0.5304\n"
     ]
    }
   ],
   "source": [
    "model.compile(optimizer='adam', loss='binary_crossentropy', metrics=['accuracy'])\n",
    "\n",
    "es = EarlyStopping(monitor='val_accuracy', min_delta=0.005, patience=2, mode='auto')\n",
    "history = model.fit(x_train, y_train, epochs=5, validation_split=0.2, batch_size=32, callbacks=[es])"
   ]
  },
  {
   "cell_type": "code",
   "execution_count": 32,
   "id": "7eb41e4c",
   "metadata": {},
   "outputs": [
    {
     "name": "stdout",
     "output_type": "stream",
     "text": [
      "196/196 - 195s - loss: 1.3963 - accuracy: 0.5189 - 195s/epoch - 995ms/step\n"
     ]
    }
   ],
   "source": [
    "#Evaluating the model\n",
    "test_loss, test_acc = model.evaluate(x_test,  y_test, verbose=2)"
   ]
  },
  {
   "cell_type": "code",
   "execution_count": 33,
   "id": "fac35cd0",
   "metadata": {},
   "outputs": [
    {
     "name": "stdout",
     "output_type": "stream",
     "text": [
      "Test loss is  1.3962587118148804\n",
      "Test Accuracy is  0.5188800096511841\n"
     ]
    }
   ],
   "source": [
    "print('Test loss is ',test_loss)\n",
    "print('Test Accuracy is ',test_acc)"
   ]
  },
  {
   "cell_type": "code",
   "execution_count": 34,
   "id": "00b6ea8d",
   "metadata": {},
   "outputs": [
    {
     "data": {
      "text/plain": [
       "Text(0.5, 1.0, 'Train - Accuracy')"
      ]
     },
     "execution_count": 34,
     "metadata": {},
     "output_type": "execute_result"
    },
    {
     "data": {
      "image/png": "[encoded data removed]",
      "text/plain": [
       "<Figure size 1000x1000 with 2 Axes>"
      ]
     },
     "metadata": {},
     "output_type": "display_data"
    }
   ],
   "source": [
    "plt.figure(figsize=(10, 10))\n",
    "\n",
    "plt.subplot(2, 2, 1)\n",
    "plt.plot(history.history['loss'], label='Loss')\n",
    "plt.plot(history.history['val_loss'], label='Validation Loss')\n",
    "plt.legend()\n",
    "plt.title('Training - Loss Function')\n",
    "\n",
    "plt.subplot(2, 2, 2)\n",
    "plt.plot(history.history['accuracy'], label='Accuracy')\n",
    "plt.plot(history.history['val_accuracy'], label='Validation Accuracy')\n",
    "plt.legend()\n",
    "plt.title('Train - Accuracy')"
   ]
  }
 ],
 "metadata": {
  "kernelspec": {
   "display_name": "Python 3 (ipykernel)",
   "language": "python",
   "name": "python3"
  },
  "language_info": {
   "codemirror_mode": {
    "name": "ipython",
    "version": 3
   },
   "file_extension": ".py",
   "mimetype": "text/x-python",
   "name": "python",
   "nbconvert_exporter": "python",
   "pygments_lexer": "ipython3",
   "version": "3.9.13"
  }
 },
 "nbformat": 4,
 "nbformat_minor": 5
}
